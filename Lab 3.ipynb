{
 "cells": [
  {
   "cell_type": "markdown",
   "id": "a8d9748f-c9bd-46d4-be27-f3fbdd030f59",
   "metadata": {},
   "source": [
    "# Lab 3"
   ]
  },
  {
   "cell_type": "markdown",
   "id": "fca7a10e-5876-450d-9f7e-0dc5ea641b11",
   "metadata": {},
   "source": [
    "## Type checking"
   ]
  },
  {
   "cell_type": "code",
   "execution_count": 3,
   "id": "9f917c1b-bae3-4e28-8d7b-68bb3efaaf9a",
   "metadata": {},
   "outputs": [
    {
     "data": {
      "text/plain": [
       "int"
      ]
     },
     "execution_count": 3,
     "metadata": {},
     "output_type": "execute_result"
    }
   ],
   "source": [
    "type(10)"
   ]
  },
  {
   "cell_type": "code",
   "execution_count": 4,
   "id": "0e831a11-d016-4b45-a5d7-6a933331ca6a",
   "metadata": {},
   "outputs": [
    {
     "data": {
      "text/plain": [
       "int"
      ]
     },
     "execution_count": 4,
     "metadata": {},
     "output_type": "execute_result"
    }
   ],
   "source": [
    "num = 1235\n",
    "type(num)"
   ]
  },
  {
   "cell_type": "markdown",
   "id": "74dfcf62-960c-4ac9-abfb-ba56fd47c340",
   "metadata": {},
   "source": [
    "## Grouping Digits"
   ]
  },
  {
   "cell_type": "code",
   "execution_count": 5,
   "id": "7bf83ab9-d729-41b1-96e7-b0291e847e87",
   "metadata": {},
   "outputs": [
    {
     "data": {
      "text/plain": [
       "12345667"
      ]
     },
     "execution_count": 5,
     "metadata": {},
     "output_type": "execute_result"
    }
   ],
   "source": [
    "12_345_667"
   ]
  },
  {
   "cell_type": "code",
   "execution_count": 74,
   "id": "3a7c51d8-efd0-4f9e-b69d-5a03bbe77b5d",
   "metadata": {},
   "outputs": [
    {
     "data": {
      "text/plain": [
       "(12, 46, 867, 43)"
      ]
     },
     "execution_count": 74,
     "metadata": {},
     "output_type": "execute_result"
    }
   ],
   "source": [
    "12,46,867,43 #If digits are grouped using commas, it wont work, it returns a list instead."
   ]
  },
  {
   "cell_type": "markdown",
   "id": "6973fa78-8438-43c3-957e-7f73ae863fcd",
   "metadata": {},
   "source": [
    "## Exponential"
   ]
  },
  {
   "cell_type": "code",
   "execution_count": 8,
   "id": "8fea25b5-811a-498d-832c-192afaf168f8",
   "metadata": {},
   "outputs": [
    {
     "data": {
      "text/plain": [
       "10.0"
      ]
     },
     "execution_count": 8,
     "metadata": {},
     "output_type": "execute_result"
    }
   ],
   "source": [
    "1e1 #Result is returned in floating point values"
   ]
  },
  {
   "cell_type": "code",
   "execution_count": 9,
   "id": "15c80c56-9168-4209-959b-c11f3a023c0a",
   "metadata": {},
   "outputs": [
    {
     "data": {
      "text/plain": [
       "10"
      ]
     },
     "execution_count": 9,
     "metadata": {},
     "output_type": "execute_result"
    }
   ],
   "source": [
    "1 * (10 ** 1) #Using power operator (**)"
   ]
  },
  {
   "cell_type": "code",
   "execution_count": 10,
   "id": "9147ac43-d791-462b-b3ba-bf842e1283ec",
   "metadata": {},
   "outputs": [
    {
     "data": {
      "text/plain": [
       "200.0"
      ]
     },
     "execution_count": 10,
     "metadata": {},
     "output_type": "execute_result"
    }
   ],
   "source": [
    "2e2"
   ]
  },
  {
   "cell_type": "code",
   "execution_count": 11,
   "id": "8c2e57bd-4c98-4a72-a34d-78b4e4901c00",
   "metadata": {},
   "outputs": [
    {
     "data": {
      "text/plain": [
       "200"
      ]
     },
     "execution_count": 11,
     "metadata": {},
     "output_type": "execute_result"
    }
   ],
   "source": [
    "2 * (10 ** 2)"
   ]
  },
  {
   "cell_type": "code",
   "execution_count": 12,
   "id": "4ffe95ba-8e87-4409-b8e4-bc1e55f2e094",
   "metadata": {},
   "outputs": [
    {
     "data": {
      "text/plain": [
       "1000000"
      ]
     },
     "execution_count": 12,
     "metadata": {},
     "output_type": "execute_result"
    }
   ],
   "source": [
    "x = 10\n",
    "n = 5\n",
    "x * (10 ** n)"
   ]
  },
  {
   "cell_type": "code",
   "execution_count": 15,
   "id": "a635f28b-b3c0-4089-9444-9fef060a0844",
   "metadata": {},
   "outputs": [
    {
     "data": {
      "text/plain": [
       "1000000"
      ]
     },
     "execution_count": 15,
     "metadata": {},
     "output_type": "execute_result"
    }
   ],
   "source": [
    "10 * pow(10, 5) #Using pow() function"
   ]
  },
  {
   "cell_type": "code",
   "execution_count": 19,
   "id": "5887b841-554f-472b-92a9-c781732958e9",
   "metadata": {},
   "outputs": [
    {
     "data": {
      "text/plain": [
       "inf"
      ]
     },
     "execution_count": 19,
     "metadata": {},
     "output_type": "execute_result"
    }
   ],
   "source": [
    "1e390 #When number reaches max floating point number, it returns infinity"
   ]
  },
  {
   "cell_type": "markdown",
   "id": "ecf12a1d-6a44-464c-9a43-5bbecb5aeeb4",
   "metadata": {},
   "source": [
    "## Arithematic Operations"
   ]
  },
  {
   "cell_type": "markdown",
   "id": "4c3084da-343b-4990-b607-6a1dd33bcada",
   "metadata": {},
   "source": [
    "2 + 3"
   ]
  },
  {
   "cell_type": "code",
   "execution_count": 21,
   "id": "7b94ac0e-c2eb-4bc0-b84b-17cec468d4cd",
   "metadata": {},
   "outputs": [
    {
     "data": {
      "text/plain": [
       "6.133333333333334"
      ]
     },
     "execution_count": 21,
     "metadata": {},
     "output_type": "execute_result"
    }
   ],
   "source": [
    "1 * (2 / 3) / 5 + 6"
   ]
  },
  {
   "cell_type": "markdown",
   "id": "b984a32f-334b-43c6-aaed-1754e1ca8c20",
   "metadata": {},
   "source": [
    "## Integer Division"
   ]
  },
  {
   "cell_type": "markdown",
   "id": "e7d3bac2-6133-41db-b63a-aaeafab30054",
   "metadata": {},
   "source": [
    "#### Example 1:"
   ]
  },
  {
   "cell_type": "code",
   "execution_count": 24,
   "id": "da7af165-aaaa-4468-a945-212872c5d560",
   "metadata": {},
   "outputs": [
    {
     "data": {
      "text/plain": [
       "0.6666666666666666"
      ]
     },
     "execution_count": 24,
     "metadata": {},
     "output_type": "execute_result"
    }
   ],
   "source": [
    "2 / 3 #Without integer division"
   ]
  },
  {
   "cell_type": "code",
   "execution_count": 29,
   "id": "d7988f87-190c-4fa6-a38f-267ffa5f8b0a",
   "metadata": {},
   "outputs": [
    {
     "data": {
      "text/plain": [
       "0"
      ]
     },
     "execution_count": 29,
     "metadata": {},
     "output_type": "execute_result"
    }
   ],
   "source": [
    "2 // 3 #With integer division"
   ]
  },
  {
   "cell_type": "markdown",
   "id": "9394ddf7-2314-4333-a298-9345cdfdb344",
   "metadata": {},
   "source": [
    "#### Example 2:"
   ]
  },
  {
   "cell_type": "code",
   "execution_count": 27,
   "id": "7deee42f-fa2b-4cdc-96e4-214c34c9239f",
   "metadata": {},
   "outputs": [
    {
     "data": {
      "text/plain": [
       "1.6666666666666667"
      ]
     },
     "execution_count": 27,
     "metadata": {},
     "output_type": "execute_result"
    }
   ],
   "source": [
    "5 / 3"
   ]
  },
  {
   "cell_type": "code",
   "execution_count": 28,
   "id": "8d152f42-7f25-47cc-9968-21f8bcdb64c5",
   "metadata": {},
   "outputs": [
    {
     "data": {
      "text/plain": [
       "1"
      ]
     },
     "execution_count": 28,
     "metadata": {},
     "output_type": "execute_result"
    }
   ],
   "source": [
    "5 // 3"
   ]
  },
  {
   "cell_type": "markdown",
   "id": "5decc597-ecf0-4066-979c-66cdd13054e5",
   "metadata": {},
   "source": [
    "## Write a python script to read two numbers N1, N2 and apply integer division (//) and a divison(/) operation on N1 and N2 and display result."
   ]
  },
  {
   "cell_type": "code",
   "execution_count": 30,
   "id": "5048c8f6-0cdc-43b5-a174-872124b41a91",
   "metadata": {},
   "outputs": [
    {
     "name": "stdout",
     "output_type": "stream",
     "text": [
      "Enter the value of N1:  3\n",
      "Enter the value of N2:  2\n"
     ]
    },
    {
     "name": "stdout",
     "output_type": "stream",
     "text": [
      "Result using integer division operator:  1\n",
      "Result using division operator:  1.5\n"
     ]
    }
   ],
   "source": [
    "n1 = int(input(\"Enter the value of N1: \"))\n",
    "n2 = int(input(\"Enter the value of N2: \"))\n",
    "print(\"Result using integer division operator: \",(n1 // n2))\n",
    "print(\"Result using division operator: \",(n1 / n2))"
   ]
  },
  {
   "cell_type": "markdown",
   "id": "45e7b68b-5bbb-4269-a236-b48af4dfde02",
   "metadata": {},
   "source": [
    "## Write a python script to evaluate the following expression using input() and print() function:"
   ]
  },
  {
   "cell_type": "markdown",
   "id": "15576c53-5c65-44b3-8982-de60fb1442aa",
   "metadata": {},
   "source": [
    "#### i) x*(y+(p*q)-r)/s"
   ]
  },
  {
   "cell_type": "code",
   "execution_count": 33,
   "id": "6be00d2b-f0a6-4297-beb5-f2a2bffa3233",
   "metadata": {},
   "outputs": [
    {
     "name": "stdout",
     "output_type": "stream",
     "text": [
      "Enter the value of x:  2\n",
      "Enter the value of y:  3\n",
      "Enter the value of p:  4\n",
      "Enter the value of q:  5\n",
      "Enter the value of r:  6\n",
      "Enter the value of s:  7\n"
     ]
    },
    {
     "name": "stdout",
     "output_type": "stream",
     "text": [
      "4.857142857142857\n"
     ]
    }
   ],
   "source": [
    "x = int(input(\"Enter the value of x: \"))\n",
    "y = int(input(\"Enter the value of y: \"))\n",
    "p = int(input(\"Enter the value of p: \"))\n",
    "q = int(input(\"Enter the value of q: \"))\n",
    "r = int(input(\"Enter the value of r: \"))\n",
    "s = int(input(\"Enter the value of s: \"))\n",
    "print(x * (y + (p * q) - r) / s)"
   ]
  },
  {
   "cell_type": "markdown",
   "id": "30f4eb27-a027-4d4f-bace-8311e0a6195a",
   "metadata": {},
   "source": [
    "#### ii) a-b*(c+(d//e)*f)"
   ]
  },
  {
   "cell_type": "code",
   "execution_count": 35,
   "id": "ba039720-123b-408d-862e-400325f73335",
   "metadata": {},
   "outputs": [
    {
     "name": "stdout",
     "output_type": "stream",
     "text": [
      "Enter the value of a:  1\n",
      "Enter the value of b:  2\n",
      "Enter the value of c:  3\n",
      "Enter the value of d:  4\n",
      "Enter the value of e:  5\n",
      "Enter the value of f:  6\n"
     ]
    },
    {
     "name": "stdout",
     "output_type": "stream",
     "text": [
      "-5\n"
     ]
    }
   ],
   "source": [
    "a = int(input(\"Enter the value of a: \"))\n",
    "b = int(input(\"Enter the value of b: \"))\n",
    "c = int(input(\"Enter the value of c: \"))\n",
    "d = int(input(\"Enter the value of d: \"))\n",
    "e = int(input(\"Enter the value of e: \"))\n",
    "f = int(input(\"Enter the value of f: \"))\n",
    "print(a - b * (c + (d // e) * f))"
   ]
  },
  {
   "cell_type": "markdown",
   "id": "4aa98d20-cc19-4e28-9323-85e003c37d5f",
   "metadata": {},
   "source": [
    "## Round Function"
   ]
  },
  {
   "cell_type": "markdown",
   "id": "7619d8f7-c563-4bd8-ae58-9988c94c5d23",
   "metadata": {},
   "source": [
    "If the given digit is even then it applys rounds down and if the given digit is odd then it applys rounds up."
   ]
  },
  {
   "cell_type": "code",
   "execution_count": 41,
   "id": "097c9433-ca03-41f0-ac97-938b98ef4688",
   "metadata": {},
   "outputs": [
    {
     "data": {
      "text/plain": [
       "2"
      ]
     },
     "execution_count": 41,
     "metadata": {},
     "output_type": "execute_result"
    }
   ],
   "source": [
    "round(2.5) #If even, rounds down"
   ]
  },
  {
   "cell_type": "code",
   "execution_count": 42,
   "id": "4db3605c-5503-4a46-bbf0-1e2a456ce8af",
   "metadata": {},
   "outputs": [
    {
     "data": {
      "text/plain": [
       "4"
      ]
     },
     "execution_count": 42,
     "metadata": {},
     "output_type": "execute_result"
    }
   ],
   "source": [
    "round(3.5) #If odd, rounds up"
   ]
  },
  {
   "cell_type": "code",
   "execution_count": 44,
   "id": "a6823e08-58e0-46df-880f-8d1e8ec2acb8",
   "metadata": {},
   "outputs": [
    {
     "data": {
      "text/plain": [
       "3.12"
      ]
     },
     "execution_count": 44,
     "metadata": {},
     "output_type": "execute_result"
    }
   ],
   "source": [
    "round(3.123, 2) #Specifying the number of decimals in the result"
   ]
  },
  {
   "cell_type": "markdown",
   "id": "3fa09e34-4c6b-442c-aa67-106e1a596869",
   "metadata": {},
   "source": [
    "## Absolute Function"
   ]
  },
  {
   "cell_type": "code",
   "execution_count": 45,
   "id": "d06d6e95-c9cb-4d08-9906-397555236e81",
   "metadata": {},
   "outputs": [
    {
     "data": {
      "text/plain": [
       "123"
      ]
     },
     "execution_count": 45,
     "metadata": {},
     "output_type": "execute_result"
    }
   ],
   "source": [
    "abs(-123)"
   ]
  },
  {
   "cell_type": "code",
   "execution_count": 46,
   "id": "8524930c-8846-4e41-8069-557290644824",
   "metadata": {},
   "outputs": [
    {
     "data": {
      "text/plain": [
       "2.3"
      ]
     },
     "execution_count": 46,
     "metadata": {},
     "output_type": "execute_result"
    }
   ],
   "source": [
    "abs(2.3)"
   ]
  },
  {
   "cell_type": "code",
   "execution_count": 47,
   "id": "81e18999-f71b-47b7-b904-32139a71a180",
   "metadata": {},
   "outputs": [
    {
     "data": {
      "text/plain": [
       "2.36"
      ]
     },
     "execution_count": 47,
     "metadata": {},
     "output_type": "execute_result"
    }
   ],
   "source": [
    "abs(-2.36)"
   ]
  },
  {
   "cell_type": "markdown",
   "id": "b56ad05d-65b8-441a-aa34-d283c6543843",
   "metadata": {},
   "source": [
    "## Power Function With 3 Arguments"
   ]
  },
  {
   "cell_type": "markdown",
   "id": "a2da75bc-5c0f-455f-b9b2-fdcb113ddcff",
   "metadata": {},
   "source": [
    "pow(x, y, z) = (x ** y) % z"
   ]
  },
  {
   "cell_type": "code",
   "execution_count": 48,
   "id": "adf13104-4261-4285-a066-7bb85df400ed",
   "metadata": {},
   "outputs": [
    {
     "data": {
      "text/plain": [
       "0"
      ]
     },
     "execution_count": 48,
     "metadata": {},
     "output_type": "execute_result"
    }
   ],
   "source": [
    "pow(2, 2, 2)"
   ]
  },
  {
   "cell_type": "code",
   "execution_count": 49,
   "id": "69e55ab2-df51-40cb-a769-01ac0f089276",
   "metadata": {},
   "outputs": [
    {
     "data": {
      "text/plain": [
       "2"
      ]
     },
     "execution_count": 49,
     "metadata": {},
     "output_type": "execute_result"
    }
   ],
   "source": [
    "pow(2, 3) % 3"
   ]
  },
  {
   "cell_type": "markdown",
   "id": "cc8bce40-9cfa-4fd8-926d-ff2eb6d86930",
   "metadata": {},
   "source": [
    "## Format Function"
   ]
  },
  {
   "cell_type": "code",
   "execution_count": 56,
   "id": "4a390d13-dfd1-4b4c-8190-f7f46a71405a",
   "metadata": {},
   "outputs": [
    {
     "data": {
      "text/plain": [
       "'1.56 8.255'"
      ]
     },
     "execution_count": 56,
     "metadata": {},
     "output_type": "execute_result"
    }
   ],
   "source": [
    "\"{} {}\".format(round(1.5587, 2), round(8.2547, 3), round(7.236, 1))"
   ]
  },
  {
   "cell_type": "code",
   "execution_count": 59,
   "id": "00e198bd-ac5f-456f-a07a-308a38bd4f1a",
   "metadata": {},
   "outputs": [
    {
     "data": {
      "text/plain": [
       "'1.56 8.255 7.2'"
      ]
     },
     "execution_count": 59,
     "metadata": {},
     "output_type": "execute_result"
    }
   ],
   "source": [
    "\"{} {} {}\".format(round(1.5587, 2), round(8.2547, 3), round(7.236, 1))"
   ]
  },
  {
   "cell_type": "markdown",
   "id": "3c8b6ee2-05a9-4708-b813-89bc42f6ad63",
   "metadata": {},
   "source": [
    "## is_integer() function"
   ]
  },
  {
   "cell_type": "markdown",
   "id": "31042ca9-5946-42b6-885a-b05f5f336f05",
   "metadata": {},
   "source": [
    "Checks if a number has a fractional part or not. It only works on floating point numbers."
   ]
  },
  {
   "cell_type": "code",
   "execution_count": 60,
   "id": "eac7dbc4-b8c9-43ce-974a-74a6b3d5e3ee",
   "metadata": {},
   "outputs": [
    {
     "data": {
      "text/plain": [
       "False"
      ]
     },
     "execution_count": 60,
     "metadata": {},
     "output_type": "execute_result"
    }
   ],
   "source": [
    "num = 25.25\n",
    "num.is_integer()"
   ]
  },
  {
   "cell_type": "code",
   "execution_count": 61,
   "id": "8ca7d35a-5c86-484e-80e4-0cd81831bef8",
   "metadata": {},
   "outputs": [
    {
     "data": {
      "text/plain": [
       "True"
      ]
     },
     "execution_count": 61,
     "metadata": {},
     "output_type": "execute_result"
    }
   ],
   "source": [
    "num = 25.0\n",
    "num.is_integer()"
   ]
  },
  {
   "cell_type": "markdown",
   "id": "2da04b47-adbe-4d2c-a073-4daaa0cf2ba2",
   "metadata": {},
   "source": [
    "## Using [:.nf] style"
   ]
  },
  {
   "cell_type": "code",
   "execution_count": 62,
   "id": "7624ce7d-edce-45cc-9cd0-8eb3767bfeb7",
   "metadata": {},
   "outputs": [
    {
     "data": {
      "text/plain": [
       "'The fixed floating point number is: 2.90'"
      ]
     },
     "execution_count": 62,
     "metadata": {},
     "output_type": "execute_result"
    }
   ],
   "source": [
    "r = 2.895\n",
    "f\"The fixed floating point number is: {r:.2f}\""
   ]
  },
  {
   "cell_type": "code",
   "execution_count": 75,
   "id": "d8db2f41-0646-4f45-9729-b74159096e37",
   "metadata": {},
   "outputs": [
    {
     "data": {
      "text/plain": [
       "'89.5%'"
      ]
     },
     "execution_count": 75,
     "metadata": {},
     "output_type": "execute_result"
    }
   ],
   "source": [
    "num = 0.895\n",
    "f\"{num:.1%}\" #Converts value to percentage(multiplies by 100) and shows the specified number of decimals"
   ]
  },
  {
   "cell_type": "code",
   "execution_count": 65,
   "id": "7c69e6a2-c491-47ba-a601-57734dee6684",
   "metadata": {},
   "outputs": [
    {
     "data": {
      "text/plain": [
       "'89.50%'"
      ]
     },
     "execution_count": 65,
     "metadata": {},
     "output_type": "execute_result"
    }
   ],
   "source": [
    "num = 0.895\n",
    "f\"{num:.2%}\" "
   ]
  },
  {
   "cell_type": "code",
   "execution_count": 72,
   "id": "3c77c9b7-f3f1-46bf-8f86-1d7bb91b12b9",
   "metadata": {},
   "outputs": [
    {
     "data": {
      "text/plain": [
       "'123,456,789'"
      ]
     },
     "execution_count": 72,
     "metadata": {},
     "output_type": "execute_result"
    }
   ],
   "source": [
    "n = 123456789\n",
    "f\"{n:,}\" # Groups in 3 digit format using specified symbol(, or _)"
   ]
  },
  {
   "cell_type": "markdown",
   "id": "de9700d1-4a6e-4ac3-a114-b845e214868c",
   "metadata": {},
   "source": [
    "## Write a Python script to streamline the result using format() function."
   ]
  },
  {
   "cell_type": "code",
   "execution_count": 2,
   "id": "f8098b1d",
   "metadata": {},
   "outputs": [
    {
     "name": "stdout",
     "output_type": "stream",
     "text": [
      "The entered numbers are 2 and 4\n"
     ]
    }
   ],
   "source": [
    "num1 = int(input(\"Enter a number 1:\"))\n",
    "num2 = int(input(\"Enter a number 2:\"))\n",
    "print(\"The entered numbers are {} and {}\".format(num1, num2))"
   ]
  },
  {
   "cell_type": "markdown",
   "id": "5943e888-49ba-40a7-864f-4e0000980b77",
   "metadata": {},
   "source": [
    "## Write a Python script to demonstrate the use of the following math function"
   ]
  },
  {
   "cell_type": "markdown",
   "id": "f2f8ae00-9cd7-4f29-98ff-43c1bd1eed42",
   "metadata": {},
   "source": [
    "#### a. round()"
   ]
  },
  {
   "cell_type": "code",
   "execution_count": 76,
   "id": "79cf84fb-a098-41b0-aa6d-d6a01450eb8a",
   "metadata": {},
   "outputs": [
    {
     "name": "stdout",
     "output_type": "stream",
     "text": [
      "Enter a floating point number:  4.6558\n",
      "Enter the number of decimal places:  2\n"
     ]
    },
    {
     "name": "stdout",
     "output_type": "stream",
     "text": [
      "The number 4.6558 rounded down to 2 places is 4.66\n"
     ]
    }
   ],
   "source": [
    "num = float(input(\"Enter a floating point number: \"))\n",
    "decimal = int(input(\"Enter the number of decimal places: \"))\n",
    "print(f\"The number {num} rounded down to {decimal} places is {round(num, decimal)}\")"
   ]
  },
  {
   "cell_type": "markdown",
   "id": "abe46f0b-fa3a-4d0c-91ae-a0fc17dd6baf",
   "metadata": {},
   "source": [
    "#### b. abs()"
   ]
  },
  {
   "cell_type": "code",
   "execution_count": 77,
   "id": "b12d3d36-e27c-4a83-a760-4778cfeb013d",
   "metadata": {},
   "outputs": [
    {
     "name": "stdout",
     "output_type": "stream",
     "text": [
      "Enter a number:  -5\n"
     ]
    },
    {
     "name": "stdout",
     "output_type": "stream",
     "text": [
      "The absolute value of -5 is 5\n"
     ]
    }
   ],
   "source": [
    "num = int(input(\"Enter a number: \"))\n",
    "print(f\"The absolute value of {num} is {abs(num)}\")"
   ]
  },
  {
   "cell_type": "markdown",
   "id": "33d811e5-3374-425d-a181-89d32f3874b3",
   "metadata": {},
   "source": [
    "#### c. pow()"
   ]
  },
  {
   "cell_type": "code",
   "execution_count": 78,
   "id": "601b00ed-72f0-4fc6-9c2b-75c475933505",
   "metadata": {},
   "outputs": [
    {
     "name": "stdout",
     "output_type": "stream",
     "text": [
      "Enter the base:  2\n",
      "Enter the power:  3\n"
     ]
    },
    {
     "name": "stdout",
     "output_type": "stream",
     "text": [
      "The result is 8\n"
     ]
    }
   ],
   "source": [
    "x = int(input(\"Enter the base: \"))\n",
    "n = int(input(\"Enter the power: \"))\n",
    "print(f\"The result is {pow(x, n)}\")"
   ]
  },
  {
   "cell_type": "markdown",
   "id": "6f5f9c0a-ab37-45d0-9260-560c8fa2c9b0",
   "metadata": {},
   "source": [
    "## Write a Python script to evaluate the following expressions:"
   ]
  },
  {
   "cell_type": "markdown",
   "id": "1fc03c12-9d34-4be6-9186-078db3fe04ed",
   "metadata": {},
   "source": [
    "#### a. pow(x,y,z) or pow(x,y)%z"
   ]
  },
  {
   "cell_type": "code",
   "execution_count": 87,
   "id": "fdfe8a82-3daa-49ea-9ee9-f357df367ece",
   "metadata": {},
   "outputs": [
    {
     "name": "stdout",
     "output_type": "stream",
     "text": [
      "Enter the value of x:  2\n",
      "Enter the value of y:  2\n",
      "Enter the value of z:  2\n"
     ]
    },
    {
     "name": "stdout",
     "output_type": "stream",
     "text": [
      "Result: 0\n",
      "Result: 0\n"
     ]
    }
   ],
   "source": [
    "x = int(input(\"Enter the value of x: \"))\n",
    "y = int(input(\"Enter the value of y: \"))\n",
    "z = int(input(\"Enter the value of z: \"))\n",
    "print(f\"Result: {pow(x, y, z)}\")\n",
    "print(f\"Result: {pow(x, y) % z}\")"
   ]
  },
  {
   "cell_type": "markdown",
   "id": "00eabdac-2f0a-456f-b31f-7bec22c9f529",
   "metadata": {},
   "source": [
    "#### b. (x**y)%z"
   ]
  },
  {
   "cell_type": "code",
   "execution_count": 89,
   "id": "890f4218-46e4-4e36-bc66-d3de45036450",
   "metadata": {},
   "outputs": [
    {
     "name": "stdout",
     "output_type": "stream",
     "text": [
      "Enter the value of x:  3\n",
      "Enter the value of y:  2\n",
      "Enter the value of z:  2\n"
     ]
    },
    {
     "name": "stdout",
     "output_type": "stream",
     "text": [
      "Result: 1\n"
     ]
    }
   ],
   "source": [
    "x = int(input(\"Enter the value of x: \"))\n",
    "y = int(input(\"Enter the value of y: \"))\n",
    "z = int(input(\"Enter the value of z: \"))\n",
    "print(f\"Result: {(x ** y) % z}\")"
   ]
  },
  {
   "cell_type": "markdown",
   "id": "13d29280-efbd-4ca4-bd53-e29df2943574",
   "metadata": {},
   "source": [
    "#### c. ** operator"
   ]
  },
  {
   "cell_type": "code",
   "execution_count": 90,
   "id": "56a9f04a-a37c-4752-a74e-8505075203a2",
   "metadata": {},
   "outputs": [
    {
     "name": "stdout",
     "output_type": "stream",
     "text": [
      "Enter the base:  3\n",
      "Enter the power:  2\n"
     ]
    },
    {
     "name": "stdout",
     "output_type": "stream",
     "text": [
      "The result is 9\n"
     ]
    }
   ],
   "source": [
    "x = int(input(\"Enter the base: \"))\n",
    "n = int(input(\"Enter the power: \"))\n",
    "print(f\"The result is {x ** n}\")"
   ]
  },
  {
   "cell_type": "markdown",
   "id": "0a09d504-97db-4bfa-8c3b-989926f6bd46",
   "metadata": {},
   "source": [
    "## Complex Numbers"
   ]
  },
  {
   "cell_type": "code",
   "execution_count": 82,
   "id": "223364d5-38c0-46c7-ab00-4551f9ebca72",
   "metadata": {},
   "outputs": [
    {
     "data": {
      "text/plain": [
       "(10+5j)"
      ]
     },
     "execution_count": 82,
     "metadata": {},
     "output_type": "execute_result"
    }
   ],
   "source": [
    "10 + 5j"
   ]
  },
  {
   "cell_type": "code",
   "execution_count": 83,
   "id": "ebd6e552-430c-4334-804c-3ec654941c90",
   "metadata": {},
   "outputs": [
    {
     "data": {
      "text/plain": [
       "30.0"
      ]
     },
     "execution_count": 83,
     "metadata": {},
     "output_type": "execute_result"
    }
   ],
   "source": [
    "cnum = 30+16j\n",
    "cnum.real"
   ]
  },
  {
   "cell_type": "code",
   "execution_count": 84,
   "id": "487f2d54-56fd-4b22-9d84-a04de53b0388",
   "metadata": {},
   "outputs": [
    {
     "data": {
      "text/plain": [
       "16.0"
      ]
     },
     "execution_count": 84,
     "metadata": {},
     "output_type": "execute_result"
    }
   ],
   "source": [
    "cnum.imag"
   ]
  },
  {
   "cell_type": "code",
   "execution_count": 94,
   "id": "9c1e46f5-4748-4069-86f3-7b1f034d8b3c",
   "metadata": {},
   "outputs": [],
   "source": [
    "cnum1 = 5 + 2j\n",
    "cnum2 = 9 - 7j"
   ]
  },
  {
   "cell_type": "code",
   "execution_count": 95,
   "id": "540d2e48-861e-43f2-b429-4fc73ce0b0f0",
   "metadata": {},
   "outputs": [
    {
     "data": {
      "text/plain": [
       "(14-5j)"
      ]
     },
     "execution_count": 95,
     "metadata": {},
     "output_type": "execute_result"
    }
   ],
   "source": [
    "cnum1 + cnum2"
   ]
  },
  {
   "cell_type": "code",
   "execution_count": 96,
   "id": "96cc13d0-e871-429a-9355-2dea5c56b168",
   "metadata": {},
   "outputs": [
    {
     "data": {
      "text/plain": [
       "(-4+9j)"
      ]
     },
     "execution_count": 96,
     "metadata": {},
     "output_type": "execute_result"
    }
   ],
   "source": [
    "cnum1 - cnum2"
   ]
  },
  {
   "cell_type": "code",
   "execution_count": 97,
   "id": "0aaf1e3c-b1c8-4e4e-8bc4-4634da0ba2f6",
   "metadata": {},
   "outputs": [
    {
     "data": {
      "text/plain": [
       "(59-17j)"
      ]
     },
     "execution_count": 97,
     "metadata": {},
     "output_type": "execute_result"
    }
   ],
   "source": [
    "cnum1 * cnum2"
   ]
  },
  {
   "cell_type": "markdown",
   "id": "7cc57ca5-1760-4734-ae04-6623eb02c1a0",
   "metadata": {},
   "source": [
    "## Functions"
   ]
  },
  {
   "cell_type": "markdown",
   "id": "f4e3a2f6-7b99-4539-a3ce-8ca81b97f10b",
   "metadata": {},
   "source": [
    "#### syntax:\n",
    "def function_name():  \n",
    "&ensp;&ensp;stmt-1<br>\n",
    "&ensp;&ensp;stmt-2<br>\n",
    "&ensp;&ensp;return value  \n",
    "stmt-3  "
   ]
  },
  {
   "cell_type": "markdown",
   "id": "1156663d-02ae-4e8f-b224-6652351900e1",
   "metadata": {},
   "source": [
    "Note: stmt-3 is not part of the function"
   ]
  },
  {
   "cell_type": "code",
   "execution_count": 100,
   "id": "d208d02f-b4e1-4056-924e-05103705a1d2",
   "metadata": {},
   "outputs": [
    {
     "name": "stdout",
     "output_type": "stream",
     "text": [
      "Hello !!! Joy, Welcome to Python Programming\n"
     ]
    }
   ],
   "source": [
    "def greetUser(name):\n",
    "    print(\"Hello !!! \" + name + \", Welcome to Python Programming\")\n",
    "\n",
    "greetUser(\"Joy\")"
   ]
  },
  {
   "cell_type": "markdown",
   "id": "4318290e-3294-4324-82ed-dad7a6eff2cd",
   "metadata": {},
   "source": [
    "## Delete previously declared variable"
   ]
  },
  {
   "cell_type": "code",
   "execution_count": 104,
   "id": "0a744e38-4c23-4701-b993-f81f945ead4b",
   "metadata": {},
   "outputs": [
    {
     "data": {
      "text/plain": [
       "16"
      ]
     },
     "execution_count": 104,
     "metadata": {},
     "output_type": "execute_result"
    }
   ],
   "source": [
    "len = \"sdmcet\"\n",
    "st = \"Computer Science\"\n",
    "# len(st) #This will cause an error\n",
    "del len\n",
    "len(st)"
   ]
  },
  {
   "cell_type": "markdown",
   "id": "b5d6fc9d-f23f-43cd-873d-447e0aa74342",
   "metadata": {},
   "source": [
    "## Write a python script to evaluate basic arithmetic operations (addition, substraction, division, multiplication) using functions (user defined functions)"
   ]
  },
  {
   "cell_type": "code",
   "execution_count": 112,
   "id": "da8d1c7e-ed4d-44ea-b320-8e9f5fb2e254",
   "metadata": {},
   "outputs": [
    {
     "name": "stdout",
     "output_type": "stream",
     "text": [
      "Enter num1: 3\n",
      "Enter num2: 6\n"
     ]
    },
    {
     "name": "stdout",
     "output_type": "stream",
     "text": [
      "3 + 6 = 9\n",
      "3 - 6 = -3\n",
      "3 * 6 = 18\n",
      "3 / 6 = 0.5\n"
     ]
    }
   ],
   "source": [
    "def arithematic_op(op1, op2):\n",
    "    print(f\"{op1} + {op2} = {op1 + op2}\")\n",
    "    print(f\"{op1} - {op2} = {op1 - op2}\")\n",
    "    print(f\"{op1} * {op2} = {op1 * op2}\")\n",
    "    print(f\"{op1} / {op2} = {op1 / op2}\")\n",
    "\n",
    "num1 = int(input(\"Enter num1:\"))\n",
    "num2 = int(input(\"Enter num2:\"))\n",
    "\n",
    "arithematic_op(num1, num2)"
   ]
  },
  {
   "cell_type": "code",
   "execution_count": 111,
   "id": "1c410514-d6d0-4afd-bff8-ff5925ccf951",
   "metadata": {},
   "outputs": [
    {
     "name": "stdout",
     "output_type": "stream",
     "text": [
      "Enter num1: 3\n",
      "Enter num2: 6\n"
     ]
    },
    {
     "name": "stdout",
     "output_type": "stream",
     "text": [
      "The sum of two numbers is 9\n",
      "The difference of two numbers is -3\n",
      "The product of two numbers is 18\n",
      "The quotient of two numbers is 0.5\n"
     ]
    }
   ],
   "source": [
    "def additionOp(n1, n2):\n",
    "    print(\"The sum of two numbers is\", (n1 + n2))\n",
    "    \n",
    "def substractOp(n1, n2):\n",
    "    print(\"The difference of two numbers is\", (n1 - n2))\n",
    "    \n",
    "def multiplyOp(n1, n2):\n",
    "    print(\"The product of two numbers is\", (n1 * n2))\n",
    "    \n",
    "def divideOp(n1, n2):\n",
    "    print(\"The quotient of two numbers is\", (n1 / n2))\n",
    "\n",
    "num1 = int(input(\"Enter num1:\"))\n",
    "num2 = int(input(\"Enter num2:\"))\n",
    "\n",
    "additionOp(num1, num2)\n",
    "substractOp(num1, num2)\n",
    "multiplyOp(num1, num2)\n",
    "divideOp(num1, num2)"
   ]
  }
 ],
 "metadata": {
  "kernelspec": {
   "display_name": "Python 3 (ipykernel)",
   "language": "python",
   "name": "python3"
  },
  "language_info": {
   "codemirror_mode": {
    "name": "ipython",
    "version": 3
   },
   "file_extension": ".py",
   "mimetype": "text/x-python",
   "name": "python",
   "nbconvert_exporter": "python",
   "pygments_lexer": "ipython3",
   "version": "3.11.4"
  }
 },
 "nbformat": 4,
 "nbformat_minor": 5
}
